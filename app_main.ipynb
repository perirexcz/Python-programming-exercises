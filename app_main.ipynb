{
 "cells": [
  {
   "cell_type": "code",
   "execution_count": 1,
   "metadata": {},
   "outputs": [
    {
     "name": "stdout",
     "output_type": "stream",
     "text": [
      "2002, 2009, 2016, 2023, 2037, 2044, 2051, 2058, 2072, 2079, 2086, 2093, 2107, 2114, 2121, 2128, 2142, 2149, 2156, 2163, 2177, 2184, 2191, 2198, 2212, 2219, 2226, 2233, 2247, 2254, 2261, 2268, 2282, 2289, 2296, 2303, 2317, 2324, 2331, 2338, 2352, 2359, 2366, 2373, 2387, 2394, 2401, 2408, 2422, 2429, 2436, 2443, 2457, 2464, 2471, 2478, 2492, 2499, 2506, 2513, 2527, 2534, 2541, 2548, 2562, 2569, 2576, 2583, 2597, 2604, 2611, 2618, 2632, 2639, 2646, 2653, 2667, 2674, 2681, 2688, 2702, 2709, 2716, 2723, 2737, 2744, 2751, 2758, 2772, 2779, 2786, 2793, 2807, 2814, 2821, 2828, 2842, 2849, 2856, 2863, 2877, 2884, 2891, 2898, 2912, 2919, 2926, 2933, 2947, 2954, 2961, 2968, 2982, 2989, 2996, 3003, 3017, 3024, 3031, 3038, 3052, 3059, 3066, 3073, 3087, 3094, 3101, 3108, 3122, 3129, 3136, 3143, 3157, 3164, 3171, 3178, 3192, 3199\n"
     ]
    }
   ],
   "source": [
    "a = range(2000, 3201)\n",
    "b = []\n",
    "\n",
    "for x in a:\n",
    "    if (x%7==0 and x%5!=0):\n",
    "        b.append(str(x))\n",
    "print(', '.join(b))\n",
    "\n",
    "        "
   ]
  },
  {
   "cell_type": "code",
   "execution_count": 9,
   "metadata": {},
   "outputs": [
    {
     "name": "stdout",
     "output_type": "stream",
     "text": [
      "40320\n"
     ]
    }
   ],
   "source": [
    "def fact(x):\n",
    "    if x!=0:\n",
    "        return x * fact(x-1)\n",
    "    else:\n",
    "        return 1\n",
    "\n",
    "x = int(input())\n",
    "print(fact(x))"
   ]
  },
  {
   "cell_type": "code",
   "execution_count": 10,
   "metadata": {},
   "outputs": [
    {
     "name": "stdout",
     "output_type": "stream",
     "text": [
      "{1: 1, 2: 4, 3: 9, 4: 16, 5: 25, 6: 36, 7: 49, 8: 64}\n"
     ]
    }
   ],
   "source": [
    "a = int(input())\n",
    "print({i: i*i for i in range(1,a+1)})\n",
    "\n"
   ]
  },
  {
   "cell_type": "code",
   "execution_count": 13,
   "metadata": {},
   "outputs": [],
   "source": [
    "a = input()\n",
    "b = a.split(sep=',')\n",
    "c = tuple(b)"
   ]
  },
  {
   "cell_type": "code",
   "execution_count": 15,
   "metadata": {},
   "outputs": [
    {
     "name": "stdout",
     "output_type": "stream",
     "text": [
      "test\n"
     ]
    }
   ],
   "source": [
    "class str_class:\n",
    "    def __init__(self):\n",
    "        self.name = \"\"\n",
    "    def getString(self):\n",
    "        self.name = input()\n",
    "    def printString(self):\n",
    "        print(self.name)\n",
    "\n",
    "X = str_class()\n",
    "\n",
    "X.getString()\n",
    "X.printString()"
   ]
  },
  {
   "cell_type": "code",
   "execution_count": 20,
   "metadata": {},
   "outputs": [
    {
     "name": "stdout",
     "output_type": "stream",
     "text": [
      "18,22,24\n"
     ]
    }
   ],
   "source": [
    "import math\n",
    "def calcSquareRoot(C, D, H):\n",
    "    return math.sqrt(((2 * C * D) / H))\n",
    "\n",
    "C = 50\n",
    "H = 30\n",
    "\n",
    "D = input()\n",
    "result = []\n",
    "\n",
    "for i in D.split(','):\n",
    "    res = calcSquareRoot(C, float(i), H)\n",
    "    result.append(str(round(res)))\n",
    "\n",
    "print(','.join(result))"
   ]
  },
  {
   "cell_type": "code",
   "execution_count": 24,
   "metadata": {},
   "outputs": [
    {
     "name": "stdout",
     "output_type": "stream",
     "text": [
      "[[0, 0, 0, 0, 0], [0, 1, 2, 3, 4], [0, 2, 4, 6, 8]]\n"
     ]
    }
   ],
   "source": [
    "[rows, cols] = input().split(',')\n",
    "rows = int(rows)\n",
    "cols = int(cols)\n",
    "\n",
    "A = [[col*row for col in range(cols)] for row in range(rows)]\n",
    "\n",
    "print(A)\n"
   ]
  },
  {
   "cell_type": "code",
   "execution_count": 27,
   "metadata": {},
   "outputs": [
    {
     "name": "stdout",
     "output_type": "stream",
     "text": [
      "bag,hello,without,world\n"
     ]
    }
   ],
   "source": [
    "A = input().split(',')\n",
    "A.sort()\n",
    "print(','.join(A))"
   ]
  },
  {
   "cell_type": "code",
   "execution_count": 33,
   "metadata": {},
   "outputs": [
    {
     "name": "stdout",
     "output_type": "stream",
     "text": [
      "HELLO WORLD\n",
      "ASDF\n"
     ]
    }
   ],
   "source": [
    "A = []\n",
    "while True:\n",
    "    strr = input()\n",
    "    if strr:\n",
    "        A.append(strr.upper())\n",
    "    else:\n",
    "        break\n",
    "\n",
    "for sentence in A:\n",
    "    print(sentence)"
   ]
  },
  {
   "cell_type": "code",
   "execution_count": 38,
   "metadata": {},
   "outputs": [
    {
     "name": "stdout",
     "output_type": "stream",
     "text": [
      "again and hello makes perfect practice world\n"
     ]
    }
   ],
   "source": [
    "words = input().split(' ')\n",
    "print(' '.join(sorted(set(words))))"
   ]
  },
  {
   "cell_type": "code",
   "execution_count": 47,
   "metadata": {},
   "outputs": [
    {
     "name": "stdout",
     "output_type": "stream",
     "text": [
      "1010\n"
     ]
    }
   ],
   "source": [
    "bin_input = input().split(',')\n",
    "result = []\n",
    "for i in bin_input:\n",
    "    if not (int(i,2)%5):\n",
    "        result.append(i)\n",
    "\n",
    "print(','.join(result))"
   ]
  },
  {
   "cell_type": "code",
   "execution_count": 80,
   "metadata": {},
   "outputs": [
    {
     "name": "stdout",
     "output_type": "stream",
     "text": [
      "2000,2002,2004,2006,2008,2020,2022,2024,2026,2028,2040,2042,2044,2046,2048,2060,2062,2064,2066,2068,2080,2082,2084,2086,2088,2200,2202,2204,2206,2208,2220,2222,2224,2226,2228,2240,2242,2244,2246,2248,2260,2262,2264,2266,2268,2280,2282,2284,2286,2288,2400,2402,2404,2406,2408,2420,2422,2424,2426,2428,2440,2442,2444,2446,2448,2460,2462,2464,2466,2468,2480,2482,2484,2486,2488,2600,2602,2604,2606,2608,2620,2622,2624,2626,2628,2640,2642,2644,2646,2648,2660,2662,2664,2666,2668,2680,2682,2684,2686,2688,2800,2802,2804,2806,2808,2820,2822,2824,2826,2828,2840,2842,2844,2846,2848,2860,2862,2864,2866,2868,2880,2882,2884,2886,2888\n"
     ]
    }
   ],
   "source": [
    "[start_range, end_range] = [int(i) for i in input().split(',')]\n",
    "num_input = list(range(start_range, end_range))\n",
    "result=[]\n",
    "\n",
    "for i in num_input:\n",
    "    i_str=str(i)\n",
    "    if not int(i_str[0])%2:\n",
    "        if not int(i_str[1])%2:\n",
    "            if not int(i_str[2])%2:\n",
    "                if not int(i_str[3])%2:\n",
    "                    result.append(i_str)\n",
    "\n",
    "print(','.join(result))\n",
    "            "
   ]
  },
  {
   "cell_type": "code",
   "execution_count": 83,
   "metadata": {},
   "outputs": [
    {
     "name": "stdout",
     "output_type": "stream",
     "text": [
      "LETTERS 10\n",
      "DIGITS 3\n"
     ]
    }
   ],
   "source": [
    "A = input()\n",
    "\n",
    "d = {\"LETTERS\" : 0, \"DIGITS\" : 0}\n",
    "\n",
    "for i in A:\n",
    "    if i.isalpha():\n",
    "        d[\"LETTERS\"] += 1\n",
    "    elif i.isdigit():\n",
    "        d[\"DIGITS\"] += 1\n",
    "\n",
    "print(f\"LETTERS {d['LETTERS']}\")\n",
    "print(f\"DIGITS {d['DIGITS']}\")"
   ]
  },
  {
   "cell_type": "code",
   "execution_count": 85,
   "metadata": {},
   "outputs": [
    {
     "name": "stdout",
     "output_type": "stream",
     "text": [
      "UPPER CASE 1\n",
      "LOWER CASE 9\n"
     ]
    }
   ],
   "source": [
    "A = input()\n",
    "\n",
    "d = {\"LOWER\" : 0, \"UPPER\" : 0}\n",
    "\n",
    "for i in A:\n",
    "    if i.isupper():\n",
    "        d['UPPER']+=1\n",
    "    elif i.islower():\n",
    "        d['LOWER']+=1\n",
    "        \n",
    "\n",
    "print(f\"UPPER CASE {d['UPPER']}\")\n",
    "print(f\"LOWER CASE {d['LOWER']}\")"
   ]
  },
  {
   "cell_type": "code",
   "execution_count": 123,
   "metadata": {},
   "outputs": [
    {
     "name": "stdout",
     "output_type": "stream",
     "text": [
      "11106\n",
      "Time: {0.0}\n"
     ]
    }
   ],
   "source": [
    "import time\n",
    "start_time = time.time()\n",
    "\n",
    "def calc(a):\n",
    "    list_a = []\n",
    "    for i in range(4):\n",
    "        list_a.append(int(\"\".join([a]*(i+1))))\n",
    "    return sum(list_a)\n",
    "\n",
    "result = calc(\"9\")\n",
    "print(result)\n",
    "print(\"Time: {%s}\" % (time.time()-start_time))"
   ]
  },
  {
   "cell_type": "code",
   "execution_count": 114,
   "metadata": {},
   "outputs": [
    {
     "name": "stdout",
     "output_type": "stream",
     "text": [
      "11106\n",
      "Time: {0.0}\n"
     ]
    }
   ],
   "source": [
    "import time\n",
    "start_time = time.time()\n",
    "a = \"9\"\n",
    "n1 = int( \"%s\" % a )\n",
    "n2 = int( \"%s%s\" % (a,a) )\n",
    "n3 = int( \"%s%s%s\" % (a,a,a) )\n",
    "n4 = int( \"%s%s%s%s\" % (a,a,a,a) )\n",
    "print(n1+n2+n3+n4)\n",
    "print(\"Time: {%s}\" % (time.time()-start_time))"
   ]
  },
  {
   "cell_type": "code",
   "execution_count": 128,
   "metadata": {},
   "outputs": [
    {
     "name": "stdout",
     "output_type": "stream",
     "text": [
      "1,9,25,49,81\n"
     ]
    }
   ],
   "source": [
    "num_input = input().split(',')\n",
    "\n",
    "result = [int(i)**2 for i in num_input if int(i)%2]\n",
    "print(','.join([str(i) for i in result]))"
   ]
  },
  {
   "cell_type": "code",
   "execution_count": 2,
   "metadata": {},
   "outputs": [
    {
     "name": "stdout",
     "output_type": "stream",
     "text": [
      "500\n"
     ]
    }
   ],
   "source": [
    "log_input = []\n",
    "transactions = {\"DEPOSIT\":\"D\", \"WITHDRAWAL\":\"W\"}\n",
    "account_amount = 0\n",
    "\n",
    "while True:\n",
    "    line_input = input()\n",
    "    if line_input:\n",
    "        log_input.append(line_input)\n",
    "    else:\n",
    "        break\n",
    "\n",
    "for i in log_input:\n",
    "    current_transaction = i.split(\" \")\n",
    "    if current_transaction[0] == transactions[\"DEPOSIT\"]:\n",
    "        account_amount += int(current_transaction[1])\n",
    "    elif current_transaction[0] == transactions[\"WITHDRAWAL\"]:\n",
    "        account_amount -= int(current_transaction[1])\n",
    "\n",
    "print(account_amount)\n",
    "        "
   ]
  },
  {
   "cell_type": "code",
   "execution_count": 31,
   "metadata": {},
   "outputs": [
    {
     "name": "stdout",
     "output_type": "stream",
     "text": [
      "ABd1234@1\n"
     ]
    }
   ],
   "source": [
    "input_pass = input().split(',')\n",
    "result = []\n",
    "special_characters = [\"$\",\"#\",\"@\"]\n",
    "\n",
    "for i in input_pass:\n",
    "    checks = 0b0000\n",
    "    if not (len(i) >= 6 and len(i) <=12):\n",
    "        continue\n",
    "    for j in i:\n",
    "        if j.isalpha() and j.islower():\n",
    "            checks = checks | 0b0001\n",
    "        elif j.isnumeric():\n",
    "            checks = checks | 0b0010\n",
    "        elif j.isalpha() and j.isupper():\n",
    "            checks = checks | 0b0100\n",
    "        elif special_characters.count(j):\n",
    "            checks = checks | 0b1000\n",
    "    if checks==0b1111:\n",
    "        result.append(i)\n",
    "\n",
    "print(','.join(result))"
   ]
  },
  {
   "cell_type": "code",
   "execution_count": 24,
   "metadata": {},
   "outputs": [
    {
     "name": "stdout",
     "output_type": "stream",
     "text": [
      "16\n"
     ]
    }
   ],
   "source": [
    "checks = 0b001\n",
    "checks = checks << 4\n",
    "print(checks)"
   ]
  }
 ],
 "metadata": {
  "kernelspec": {
   "display_name": "Python 3 (ipykernel)",
   "language": "python",
   "name": "python3"
  },
  "language_info": {
   "codemirror_mode": {
    "name": "ipython",
    "version": 3
   },
   "file_extension": ".py",
   "mimetype": "text/x-python",
   "name": "python",
   "nbconvert_exporter": "python",
   "pygments_lexer": "ipython3",
   "version": "3.12.4"
  }
 },
 "nbformat": 4,
 "nbformat_minor": 2
}
